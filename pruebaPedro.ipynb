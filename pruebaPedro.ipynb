{
  "nbformat": 4,
  "nbformat_minor": 0,
  "metadata": {
    "colab": {
      "name": "pruebaPedro.ipynb",
      "provenance": [],
      "authorship_tag": "ABX9TyNwEBFe4h3U5FeSPnTNIW7m",
      "include_colab_link": true
    },
    "kernelspec": {
      "name": "python3",
      "display_name": "Python 3"
    },
    "language_info": {
      "name": "python"
    }
  },
  "cells": [
    {
      "cell_type": "markdown",
      "metadata": {
        "id": "view-in-github",
        "colab_type": "text"
      },
      "source": [
        "<a href=\"https://colab.research.google.com/github/pedromirsky/GitHUb/blob/master/pruebaPedro.ipynb\" target=\"_parent\"><img src=\"https://colab.research.google.com/assets/colab-badge.svg\" alt=\"Open In Colab\"/></a>"
      ]
    },
    {
      "cell_type": "markdown",
      "metadata": {
        "id": "s2JVoK8umlhE"
      },
      "source": [
        "Esto es una página\n"
      ]
    },
    {
      "cell_type": "code",
      "metadata": {
        "id": "_3rMnmjymn-3"
      },
      "source": [
        "print(\"Hola Mundo\")"
      ],
      "execution_count": null,
      "outputs": []
    },
    {
      "cell_type": "markdown",
      "metadata": {
        "id": "g-F9DHtDlWrN"
      },
      "source": [
        ""
      ]
    }
  ]
}