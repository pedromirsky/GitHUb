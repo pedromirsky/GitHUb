{
  "nbformat": 4,
  "nbformat_minor": 0,
  "metadata": {
    "colab": {
      "name": "pruebaPedro.ipynb",
      "provenance": [],
      "collapsed_sections": [],
      "authorship_tag": "ABX9TyM2D7tvmYpCr24bK9cVe+PJ",
      "include_colab_link": true
    },
    "kernelspec": {
      "name": "python3",
      "display_name": "Python 3"
    },
    "language_info": {
      "name": "python"
    }
  },
  "cells": [
    {
      "cell_type": "markdown",
      "metadata": {
        "id": "view-in-github",
        "colab_type": "text"
      },
      "source": [
        "<a href=\"https://colab.research.google.com/github/pedromirsky/GitHUb/blob/master/pruebaPedro.ipynb\" target=\"_parent\"><img src=\"https://colab.research.google.com/assets/colab-badge.svg\" alt=\"Open In Colab\"/></a>"
      ]
    },
    {
      "cell_type": "markdown",
      "metadata": {
        "id": "s2JVoK8umlhE"
      },
      "source": [
        "Esto es una página\n"
      ]
    },
    {
      "cell_type": "code",
      "metadata": {
        "id": "_3rMnmjymn-3"
      },
      "source": [
        "print(\"Hola Mundo\")"
      ],
      "execution_count": null,
      "outputs": []
    },
    {
      "cell_type": "code",
      "metadata": {
        "id": "L7erZ4WgnRc8"
      },
      "source": [
        "fsdfsdfsdf"
      ],
      "execution_count": null,
      "outputs": []
    },
    {
      "cell_type": "markdown",
      "metadata": {
        "id": "u7C_VXiUoFSA"
      },
      "source": [
        "dfgdfgdfgdf"
      ]
    },
    {
      "cell_type": "code",
      "metadata": {
        "colab": {
          "base_uri": "https://localhost:8080/"
        },
        "id": "Vv3T1jyPoD_N",
        "outputId": "a046c823-4442-4bab-ea21-d50e44aa94c8"
      },
      "source": [
        "def NumeroOCaracter (valorInput):\n",
        "    if str. isdigit(valorInput) == True:\n",
        "        print(\" es un numero \")\n",
        "    else:\n",
        "        print(\" es un caracter\")\n",
        "\n",
        "valorIngresado = input(\"Ingrese un numero o un caracter\")\n",
        "\n",
        "NumeroOCaracter(valorIngresado)\n",
        "\n"
      ],
      "execution_count": 11,
      "outputs": [
        {
          "output_type": "stream",
          "text": [
            "Ingrese un numero o un caractera\n",
            " es un caracter\n"
          ],
          "name": "stdout"
        }
      ]
    },
    {
      "cell_type": "code",
      "metadata": {
        "colab": {
          "base_uri": "https://localhost:8080/"
        },
        "id": "3kmXkCxZqbcJ",
        "outputId": "cc9646b2-10f8-404b-a617-6acfe34526a1"
      },
      "source": [
        "a = 5\n",
        "type(a)\n",
        "if type(a) == int:\n",
        "   print(\"hola\")"
      ],
      "execution_count": 6,
      "outputs": [
        {
          "output_type": "stream",
          "text": [
            "hola\n"
          ],
          "name": "stdout"
        }
      ]
    },
    {
      "cell_type": "markdown",
      "metadata": {
        "id": "g-F9DHtDlWrN"
      },
      "source": [
        ""
      ]
    }
  ]
}