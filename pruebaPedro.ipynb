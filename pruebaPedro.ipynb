{
  "nbformat": 4,
  "nbformat_minor": 0,
  "metadata": {
    "colab": {
      "name": "pruebaPedro.ipynb",
      "provenance": [],
      "collapsed_sections": [],
      "authorship_tag": "ABX9TyObk9RS7sTLXnNLwmrd0lsq",
      "include_colab_link": true
    },
    "kernelspec": {
      "name": "python3",
      "display_name": "Python 3"
    },
    "language_info": {
      "name": "python"
    }
  },
  "cells": [
    {
      "cell_type": "markdown",
      "metadata": {
        "id": "view-in-github",
        "colab_type": "text"
      },
      "source": [
        "<a href=\"https://colab.research.google.com/github/pedromirsky/GitHUb/blob/master/pruebaPedro.ipynb\" target=\"_parent\"><img src=\"https://colab.research.google.com/assets/colab-badge.svg\" alt=\"Open In Colab\"/></a>"
      ]
    },
    {
      "cell_type": "markdown",
      "metadata": {
        "id": "s2JVoK8umlhE"
      },
      "source": [
        "Esto es una página\n"
      ]
    },
    {
      "cell_type": "code",
      "metadata": {
        "id": "_3rMnmjymn-3"
      },
      "source": [
        "print(\"Hola Mundo\")"
      ],
      "execution_count": null,
      "outputs": []
    },
    {
      "cell_type": "code",
      "metadata": {
        "id": "L7erZ4WgnRc8"
      },
      "source": [
        "def NumeroOCaracter (valorInput):\n",
        "    if str. isdigit(valorInput) == True:\n",
        "        print(\" es un numero \")\n",
        "    else:\n",
        "        print(\" es un caracter\")\n",
        "\n",
        "valorIngresado = input(\"Ingrese un numero o un caracter\")\n",
        "\n",
        "NumeroOCaracter(valorIngresado)"
      ],
      "execution_count": null,
      "outputs": []
    },
    {
      "cell_type": "code",
      "metadata": {
        "id": "XbTTknRTvhEp"
      },
      "source": [
        ""
      ],
      "execution_count": null,
      "outputs": []
    },
    {
      "cell_type": "markdown",
      "metadata": {
        "id": "u7C_VXiUoFSA"
      },
      "source": [
        "dfgdfgdfgdf"
      ]
    },
    {
      "cell_type": "code",
      "metadata": {
        "colab": {
          "base_uri": "https://localhost:8080/"
        },
        "id": "Vv3T1jyPoD_N",
        "outputId": "a46fc620-bc83-4c09-cb35-177946f7fc7c"
      },
      "source": [
        "def NumeroOCaracter (valorInput):\n",
        "    if str. isdigit(valorInput) == True:\n",
        "        return True\n",
        "\n",
        "valorIngresado = input(\"Ingrese un numero o un caracter\")\n",
        "\n",
        "while NumeroOCaracter(valorIngresado) == True:\n",
        "  print(\"Es un numero\")\n",
        "  break;\n",
        "  \n",
        "  \n",
        "\n",
        "\n",
        "\n",
        "\n"
      ],
      "execution_count": 15,
      "outputs": [
        {
          "output_type": "stream",
          "text": [
            "Ingrese un numero o un caracter4\n",
            "Es un numero\n",
            "Ingrese un numero o un caracter3\n"
          ],
          "name": "stdout"
        }
      ]
    },
    {
      "cell_type": "code",
      "metadata": {
        "colab": {
          "base_uri": "https://localhost:8080/"
        },
        "id": "3kmXkCxZqbcJ",
        "outputId": "cc9646b2-10f8-404b-a617-6acfe34526a1"
      },
      "source": [
        "a = 5\n",
        "type(a)\n",
        "if type(a) == int:\n",
        "   print(\"hola\")"
      ],
      "execution_count": 6,
      "outputs": [
        {
          "output_type": "stream",
          "text": [
            "hola\n"
          ],
          "name": "stdout"
        }
      ]
    },
    {
      "cell_type": "code",
      "metadata": {
        "colab": {
          "base_uri": "https://localhost:8080/"
        },
        "id": "POeAuF_-yBwR",
        "outputId": "5f035f98-524e-42dc-d79d-1ff3a0d25782"
      },
      "source": [
        "listaAlumnos = [\"Sofi\", \"Angel\", \"Agus\", \"Pedro\"]\n",
        "totalAlumnos = 0\n",
        "\n",
        "for alumnos in listaAlumnos:\n",
        "  totalAlumnos +=1 \n",
        "  \n",
        "print(\"El total de alumnos es\")\n",
        "print(totalAlumnos)\n"
      ],
      "execution_count": 18,
      "outputs": [
        {
          "output_type": "stream",
          "text": [
            "El total de alumnos es\n",
            "4\n"
          ],
          "name": "stdout"
        }
      ]
    },
    {
      "cell_type": "code",
      "metadata": {
        "colab": {
          "base_uri": "https://localhost:8080/"
        },
        "id": "IioKLNGEy9W6",
        "outputId": "854c19ff-fd5b-407f-da0a-5551dba156eb"
      },
      "source": [
        "a = True\n",
        "while a == True:\n",
        "      try:\n",
        "         n1=(int(input(\"Ingrese un numero: \")))\n",
        "       \n",
        "      except ValueError:\n",
        "        print(\"Debe ser un numero\")\n",
        "        break\n",
        "        \n",
        "        \n",
        "      \n",
        "\n"
      ],
      "execution_count": 30,
      "outputs": [
        {
          "output_type": "stream",
          "text": [
            "Ingrese un numero: 6\n",
            "Ingrese un numero: 3\n",
            "Ingrese un numero: 7\n",
            "Ingrese un numero: 8\n",
            "Ingrese un numero: t\n",
            "Debe ser un numero\n"
          ],
          "name": "stdout"
        }
      ]
    },
    {
      "cell_type": "markdown",
      "metadata": {
        "id": "g-F9DHtDlWrN"
      },
      "source": [
        ""
      ]
    }
  ]
}