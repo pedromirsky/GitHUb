{
  "nbformat": 4,
  "nbformat_minor": 0,
  "metadata": {
    "colab": {
      "name": "Raiz Iteraciones.ipynb",
      "provenance": [],
      "collapsed_sections": [],
      "authorship_tag": "ABX9TyN8P5PtbLWjPMfIqHeB6wgE",
      "include_colab_link": true
    },
    "kernelspec": {
      "name": "python3",
      "display_name": "Python 3"
    },
    "language_info": {
      "name": "python"
    }
  },
  "cells": [
    {
      "cell_type": "markdown",
      "metadata": {
        "id": "view-in-github",
        "colab_type": "text"
      },
      "source": [
        "<a href=\"https://colab.research.google.com/github/pedromirsky/GitHUb/blob/master/Raiz_Iteraciones.ipynb\" target=\"_parent\"><img src=\"https://colab.research.google.com/assets/colab-badge.svg\" alt=\"Open In Colab\"/></a>"
      ]
    },
    {
      "cell_type": "markdown",
      "metadata": {
        "id": "rcXgEENwwmE7"
      },
      "source": [
        ""
      ]
    },
    {
      "cell_type": "code",
      "metadata": {
        "id": "WL9UVUxXwdTU"
      },
      "source": [
        ""
      ],
      "execution_count": null,
      "outputs": []
    },
    {
      "cell_type": "markdown",
      "metadata": {
        "id": "qa-FeaNHwezc"
      },
      "source": [
        "### **Método Bisección:**\n",
        "\n",
        "\n",
        "\n",
        "\n"
      ]
    },
    {
      "cell_type": "code",
      "metadata": {
        "colab": {
          "base_uri": "https://localhost:8080/",
          "height": 981
        },
        "id": "6hn1DH6W0-86",
        "outputId": "f4d40188-51da-4fc9-f8cb-378e4ee41e62"
      },
      "source": [
        "from sympy import *\n",
        "from sympy.plotting import plot\n",
        "import numpy as np\n",
        "import matplotlib.pyplot as plt\n",
        "import pandas as pd\n",
        "import math\n",
        "\n",
        "x = symbols('x')\n",
        "#f = 2*x + 5\n",
        "#f = 2*x**2 - 6*x\n",
        "#f= x**3 + 2*x**2 + 2\n",
        "f = x- math.pi\n",
        "\n",
        "p1 = plot(f, show=True)\n",
        "#roots\n",
        "roots(f, multiple=True)\n",
        "\n",
        "\n",
        "def raizIteracion(a,b,f,iteracionMax = 100000):\n",
        "  print(f\"Hallando raíz dentro del intervalo ( {a} , {b})\")\n",
        "\n",
        "  valores_a = []\n",
        "  valores_b = []\n",
        "  valores_c = []\n",
        "  valores_fc = []\n",
        "\n",
        "  datos = {\n",
        "    'a' : valores_a,\n",
        "    'b' : valores_b,\n",
        "    'c' : valores_c,\n",
        "    'fc': valores_fc\n",
        "    }\n",
        "\n",
        "  fa = f.subs(x,a)\n",
        "  fb = f.subs(x,b)\n",
        "  c = (a + b) / 2\n",
        "  raizHallada = False\n",
        "  contador = 0    \n",
        "  \n",
        "  while raizHallada == False: # ver de sacar el ==False\n",
        "      c = (a + b) / 2\n",
        "      contador += 1\n",
        "\n",
        "      valores_a.append(a)\n",
        "      valores_b.append(b)\n",
        "      valores_c.append(c)\n",
        "\n",
        "      # print(fa * fb)\n",
        "      if fa * fb < 0:\n",
        "        fc = f.subs(x,c)\n",
        "        valores_fc.append(fc)\n",
        "\n",
        "     \n",
        "        # if fc >= -0.5 and fc <= 0.5:\n",
        "        if fc == 0: # el programa termina solo cuando se da esta condicion\n",
        "          print(\"iteraciones: \")\n",
        "          print(contador)\n",
        "          print(\"raiz: \") \n",
        "          print(c)\n",
        "          raizHallada = True\n",
        "\n",
        "        else:  \n",
        "          # print(fc)\n",
        "          if fa * fc < 0:\n",
        "            b = c\n",
        "          else:\n",
        "            a = c\n",
        "       \n",
        "      if contador >= iteracionMax: # corta cuando cumplen las iteraciones maximas\n",
        "          print(\"iteraciones se cortaron en el limite maximo: \")\n",
        "          print(contador)\n",
        "          print(\"raiz mas cercana: \") \n",
        "          print(c)\n",
        "          raizHallada = True\n",
        "\n",
        "  df = pd.DataFrame(datos)\n",
        "\n",
        "  df['a'].plot()\n",
        "  df['b'].plot() \n",
        "  df['c'].plot() \n",
        "  #df['fc'].plot()  \n",
        "\n",
        "  return df.head(100)   \n",
        "  \n",
        "          \n",
        "\n",
        "#raizIteracion(-1,2,f)\n",
        "raizIteracion(0,5,f,10)\n",
        "\n",
        "\n"
      ],
      "execution_count": 40,
      "outputs": [
        {
          "output_type": "display_data",
          "data": {
            "image/png": "[encoded data removed]",
            "text/plain": [
              "<Figure size 432x288 with 1 Axes>"
            ]
          },
          "metadata": {
            "needs_background": "light"
          }
        },
        {
          "output_type": "stream",
          "name": "stdout",
          "text": [
            "Hallando raíz dentro del intervalo ( 0 , 5)\n",
            "iteraciones se cortaron en el limite maximo: \n",
            "10\n",
            "raiz mas cercana: \n",
            "3.1396484375\n"
          ]
        },
        {
          "output_type": "execute_result",
          "data": {
            "text/html": [
              "<div>\n",
              "<style scoped>\n",
              "    .dataframe tbody tr th:only-of-type {\n",
              "        vertical-align: middle;\n",
              "    }\n",
              "\n",
              "    .dataframe tbody tr th {\n",
              "        vertical-align: top;\n",
              "    }\n",
              "\n",
              "    .dataframe thead th {\n",
              "        text-align: right;\n",
              "    }\n",
              "</style>\n",
              "<table border=\"1\" class=\"dataframe\">\n",
              "  <thead>\n",
              "    <tr style=\"text-align: right;\">\n",
              "      <th></th>\n",
              "      <th>a</th>\n",
              "      <th>b</th>\n",
              "      <th>c</th>\n",
              "      <th>fc</th>\n",
              "    </tr>\n",
              "  </thead>\n",
              "  <tbody>\n",
              "    <tr>\n",
              "      <th>0</th>\n",
              "      <td>0.000000</td>\n",
              "      <td>5.000000</td>\n",
              "      <td>2.500000</td>\n",
              "      <td>-0.641592653589793</td>\n",
              "    </tr>\n",
              "    <tr>\n",
              "      <th>1</th>\n",
              "      <td>2.500000</td>\n",
              "      <td>5.000000</td>\n",
              "      <td>3.750000</td>\n",
              "      <td>0.608407346410207</td>\n",
              "    </tr>\n",
              "    <tr>\n",
              "      <th>2</th>\n",
              "      <td>2.500000</td>\n",
              "      <td>3.750000</td>\n",
              "      <td>3.125000</td>\n",
              "      <td>-0.0165926535897931</td>\n",
              "    </tr>\n",
              "    <tr>\n",
              "      <th>3</th>\n",
              "      <td>3.125000</td>\n",
              "      <td>3.750000</td>\n",
              "      <td>3.437500</td>\n",
              "      <td>0.295907346410207</td>\n",
              "    </tr>\n",
              "    <tr>\n",
              "      <th>4</th>\n",
              "      <td>3.125000</td>\n",
              "      <td>3.437500</td>\n",
              "      <td>3.281250</td>\n",
              "      <td>0.139657346410207</td>\n",
              "    </tr>\n",
              "    <tr>\n",
              "      <th>5</th>\n",
              "      <td>3.125000</td>\n",
              "      <td>3.281250</td>\n",
              "      <td>3.203125</td>\n",
              "      <td>0.0615323464102069</td>\n",
              "    </tr>\n",
              "    <tr>\n",
              "      <th>6</th>\n",
              "      <td>3.125000</td>\n",
              "      <td>3.203125</td>\n",
              "      <td>3.164062</td>\n",
              "      <td>0.0224698464102069</td>\n",
              "    </tr>\n",
              "    <tr>\n",
              "      <th>7</th>\n",
              "      <td>3.125000</td>\n",
              "      <td>3.164062</td>\n",
              "      <td>3.144531</td>\n",
              "      <td>0.00293859641020688</td>\n",
              "    </tr>\n",
              "    <tr>\n",
              "      <th>8</th>\n",
              "      <td>3.125000</td>\n",
              "      <td>3.144531</td>\n",
              "      <td>3.134766</td>\n",
              "      <td>-0.00682702858979312</td>\n",
              "    </tr>\n",
              "    <tr>\n",
              "      <th>9</th>\n",
              "      <td>3.134766</td>\n",
              "      <td>3.144531</td>\n",
              "      <td>3.139648</td>\n",
              "      <td>-0.00194421608979312</td>\n",
              "    </tr>\n",
              "  </tbody>\n",
              "</table>\n",
              "</div>"
            ],
            "text/plain": [
              "          a         b         c                    fc\n",
              "0  0.000000  5.000000  2.500000    -0.641592653589793\n",
              "1  2.500000  5.000000  3.750000     0.608407346410207\n",
              "2  2.500000  3.750000  3.125000   -0.0165926535897931\n",
              "3  3.125000  3.750000  3.437500     0.295907346410207\n",
              "4  3.125000  3.437500  3.281250     0.139657346410207\n",
              "5  3.125000  3.281250  3.203125    0.0615323464102069\n",
              "6  3.125000  3.203125  3.164062    0.0224698464102069\n",
              "7  3.125000  3.164062  3.144531   0.00293859641020688\n",
              "8  3.125000  3.144531  3.134766  -0.00682702858979312\n",
              "9  3.134766  3.144531  3.139648  -0.00194421608979312"
            ]
          },
          "metadata": {},
          "execution_count": 40
        },
        {
          "output_type": "display_data",
          "data": {
            "image/png": "[encoded data removed]",
            "text/plain": [
              "<Figure size 432x288 with 1 Axes>"
            ]
          },
          "metadata": {
            "needs_background": "light"
          }
        }
      ]
    }
  ]
}