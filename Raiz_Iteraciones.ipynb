{
  "nbformat": 4,
  "nbformat_minor": 0,
  "metadata": {
    "colab": {
      "name": "Raiz Iteraciones.ipynb",
      "provenance": [],
      "collapsed_sections": [],
      "authorship_tag": "ABX9TyOhvlBV1FeZJMwgjpjioubo",
      "include_colab_link": true
    },
    "kernelspec": {
      "name": "python3",
      "display_name": "Python 3"
    },
    "language_info": {
      "name": "python"
    }
  },
  "cells": [
    {
      "cell_type": "markdown",
      "metadata": {
        "id": "view-in-github",
        "colab_type": "text"
      },
      "source": [
        "<a href=\"https://colab.research.google.com/github/pedromirsky/GitHUb/blob/master/Raiz_Iteraciones.ipynb\" target=\"_parent\"><img src=\"https://colab.research.google.com/assets/colab-badge.svg\" alt=\"Open In Colab\"/></a>"
      ]
    },
    {
      "cell_type": "markdown",
      "metadata": {
        "id": "rcXgEENwwmE7"
      },
      "source": [
        ""
      ]
    },
    {
      "cell_type": "code",
      "metadata": {
        "id": "WL9UVUxXwdTU"
      },
      "source": [
        ""
      ],
      "execution_count": null,
      "outputs": []
    },
    {
      "cell_type": "markdown",
      "metadata": {
        "id": "qa-FeaNHwezc"
      },
      "source": [
        "### **Método Bisección:**\n",
        "\n",
        "\n",
        "\n",
        "\n"
      ]
    },
    {
      "cell_type": "code",
      "metadata": {
        "colab": {
          "base_uri": "https://localhost:8080/",
          "height": 442
        },
        "id": "6hn1DH6W0-86",
        "outputId": "24e2c068-3e3a-4362-8986-139255daf8dc"
      },
      "source": [
        "from sympy import *\n",
        "from sympy.plotting import plot\n",
        "import numpy as np\n",
        "import matplotlib.pyplot as plt\n",
        "\n",
        "x = symbols('x')\n",
        "# f = 2*x + 5\n",
        "f = 2*x**2 - 6*x\n",
        "\n",
        "p1 = plot(f, show=True)\n",
        "#roots\n",
        "roots(f, multiple=True)\n",
        "\n",
        "\n",
        "def raizIteracion(a,b,f):\n",
        "  fa = f.subs(x,a)\n",
        "  fb = f.subs(x,b)\n",
        "  c = (a + b) / 2\n",
        "  raizHallada = False\n",
        "  contador = 0    \n",
        "  while raizHallada == False: # ver de sacar el ==False\n",
        "      c = (a + b) / 2\n",
        "      contador += 1\n",
        "      # print(fa * fb)\n",
        "      if fa * fb < 0:\n",
        "        fc = f.subs(x,c)\n",
        "     \n",
        "        # if fc >= -0.5 and fc <= 0.5:\n",
        "        if fc == 0: # el programa termina solo cuando se da esta condicion\n",
        "          print(\"iteraciones: \")\n",
        "          print(contador)\n",
        "          print(\"raiz: \") \n",
        "          print(c)\n",
        "          raizHallada = True\n",
        "\n",
        "        else:  \n",
        "          # print(fc)\n",
        "          if fa * fc < 0:\n",
        "            b = c\n",
        "          else:\n",
        "            a = c\n",
        "      \n",
        "      \n",
        "\n",
        "raizIteracion(-2,1,f)\n",
        "raizIteracion(2,7,f)\n"
      ],
      "execution_count": 6,
      "outputs": [
        {
          "output_type": "display_data",
          "data": {
            "image/png": "[encoded data removed]",
            "text/plain": [
              "<Figure size 432x288 with 1 Axes>"
            ]
          },
          "metadata": {
            "needs_background": "light"
          }
        },
        {
          "output_type": "stream",
          "name": "stdout",
          "text": [
            "iteraciones: \n",
            "1075\n",
            "raiz: \n",
            "-0.0\n",
            "iteraciones: \n",
            "52\n",
            "raiz: \n",
            "3.0\n"
          ]
        }
      ]
    }
  ]
}