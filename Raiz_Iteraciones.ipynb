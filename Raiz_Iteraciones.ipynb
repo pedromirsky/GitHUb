{
  "nbformat": 4,
  "nbformat_minor": 0,
  "metadata": {
    "colab": {
      "name": "Raiz Iteraciones.ipynb",
      "provenance": [],
      "collapsed_sections": [],
      "authorship_tag": "ABX9TyMCr0Ccartha8BnQegq/dNP",
      "include_colab_link": true
    },
    "kernelspec": {
      "name": "python3",
      "display_name": "Python 3"
    },
    "language_info": {
      "name": "python"
    }
  },
  "cells": [
    {
      "cell_type": "markdown",
      "metadata": {
        "id": "view-in-github",
        "colab_type": "text"
      },
      "source": [
        "<a href=\"https://colab.research.google.com/github/pedromirsky/GitHUb/blob/master/Raiz_Iteraciones.ipynb\" target=\"_parent\"><img src=\"https://colab.research.google.com/assets/colab-badge.svg\" alt=\"Open In Colab\"/></a>"
      ]
    },
    {
      "cell_type": "markdown",
      "metadata": {
        "id": "rcXgEENwwmE7"
      },
      "source": [
        ""
      ]
    },
    {
      "cell_type": "code",
      "metadata": {
        "id": "WL9UVUxXwdTU"
      },
      "source": [
        ""
      ],
      "execution_count": null,
      "outputs": []
    },
    {
      "cell_type": "markdown",
      "metadata": {
        "id": "qa-FeaNHwezc"
      },
      "source": [
        "### **Método Bisección:**\n",
        "\n",
        "\n",
        "\n",
        "\n"
      ]
    },
    {
      "cell_type": "code",
      "metadata": {
        "colab": {
          "base_uri": "https://localhost:8080/",
          "height": 1000
        },
        "id": "6hn1DH6W0-86",
        "outputId": "8ea24b6d-3817-46dd-9cf0-318e2cb84c93"
      },
      "source": [
        "from sympy import *\n",
        "from sympy.plotting import plot\n",
        "import numpy as np\n",
        "import matplotlib.pyplot as plt\n",
        "import pandas as pd\n",
        "\n",
        "\n",
        "x = symbols('x')\n",
        "#f = 2*x + 5\n",
        "#f = 2*x**2 - 6*x\n",
        "f= x**3 + 2*x**2 + 2\n",
        "\n",
        "p1 = plot(f, show=True)\n",
        "#roots\n",
        "roots(f, multiple=True)\n",
        "\n",
        "\n",
        "def raizIteracion(a,b,f,iteracionMax = 100000):\n",
        "  print(f\"Hallando raíz dentro del intervalo ( {a} , {b})\")\n",
        "\n",
        "  valores_a = []\n",
        "  valores_b = []\n",
        "  valores_c = []\n",
        "  valores_fc = []\n",
        "\n",
        "  datos = {\n",
        "    'a' : valores_a,\n",
        "    'b' : valores_b,\n",
        "    'c' : valores_c,\n",
        "    'fc': valores_fc\n",
        "    }\n",
        "\n",
        "  fa = f.subs(x,a)\n",
        "  fb = f.subs(x,b)\n",
        "  c = (a + b) / 2\n",
        "  raizHallada = False\n",
        "  contador = 0    \n",
        "  \n",
        "  while raizHallada == False: # ver de sacar el ==False\n",
        "      c = (a + b) / 2\n",
        "      contador += 1\n",
        "      \n",
        "\n",
        "      if contador >= iteracionMax:\n",
        "        print(\"iteraciones se cortaron en el limite maximo: \")\n",
        "        print(contador)\n",
        "        print(\"raiz mas cercana: \") \n",
        "        print(c)\n",
        "        raizHallada = True\n",
        "\n",
        "      valores_a.append(a)\n",
        "      valores_b.append(b)\n",
        "      valores_c.append(c)\n",
        "\n",
        "      # print(fa * fb)\n",
        "      if fa * fb < 0:\n",
        "        fc = f.subs(x,c)\n",
        "        valores_fc.append(fc)\n",
        "\n",
        "     \n",
        "        # if fc >= -0.5 and fc <= 0.5:\n",
        "        if fc == 0: # el programa termina solo cuando se da esta condicion\n",
        "          print(\"iteraciones: \")\n",
        "          print(contador)\n",
        "          print(\"raiz: \") \n",
        "          print(c)\n",
        "          raizHallada = True\n",
        "\n",
        "        else:  \n",
        "          # print(fc)\n",
        "          if fa * fc < 0:\n",
        "            b = c\n",
        "          else:\n",
        "            a = c\n",
        "\n",
        " \n",
        "  df = pd.DataFrame(datos)\n",
        "\n",
        "  df['a'].plot()\n",
        "  df['b'].plot() \n",
        "  df['c'].plot() \n",
        "  #df['fc'].plot()  \n",
        "\n",
        "  return df.head(100)   \n",
        "  \n",
        "          \n",
        "\n",
        "#raizIteracion(-1,2,f)\n",
        "raizIteracion(-5,2.5,f,100)\n",
        "\n",
        "\n"
      ],
      "execution_count": 22,
      "outputs": [
        {
          "output_type": "display_data",
          "data": {
            "image/png": "[encoded data removed]",
            "text/plain": [
              "<Figure size 432x288 with 1 Axes>"
            ]
          },
          "metadata": {
            "needs_background": "light"
          }
        },
        {
          "output_type": "stream",
          "name": "stdout",
          "text": [
            "Hallando raíz dentro del intervalo ( -5 , 2.5)\n",
            "iteraciones se cortaron en el limite maximo: \n",
            "100\n",
            "raiz mas cercana: \n",
            "-2.359304085971776\n"
          ]
        },
        {
          "output_type": "execute_result",
          "data": {
            "text/html": [
              "<div>\n",
              "<style scoped>\n",
              "    .dataframe tbody tr th:only-of-type {\n",
              "        vertical-align: middle;\n",
              "    }\n",
              "\n",
              "    .dataframe tbody tr th {\n",
              "        vertical-align: top;\n",
              "    }\n",
              "\n",
              "    .dataframe thead th {\n",
              "        text-align: right;\n",
              "    }\n",
              "</style>\n",
              "<table border=\"1\" class=\"dataframe\">\n",
              "  <thead>\n",
              "    <tr style=\"text-align: right;\">\n",
              "      <th></th>\n",
              "      <th>a</th>\n",
              "      <th>b</th>\n",
              "      <th>c</th>\n",
              "      <th>fc</th>\n",
              "    </tr>\n",
              "  </thead>\n",
              "  <tbody>\n",
              "    <tr>\n",
              "      <th>0</th>\n",
              "      <td>-5.000000</td>\n",
              "      <td>2.500000</td>\n",
              "      <td>-1.250000</td>\n",
              "      <td>3.17187500000000</td>\n",
              "    </tr>\n",
              "    <tr>\n",
              "      <th>1</th>\n",
              "      <td>-5.000000</td>\n",
              "      <td>-1.250000</td>\n",
              "      <td>-3.125000</td>\n",
              "      <td>-8.98632812500000</td>\n",
              "    </tr>\n",
              "    <tr>\n",
              "      <th>2</th>\n",
              "      <td>-3.125000</td>\n",
              "      <td>-1.250000</td>\n",
              "      <td>-2.187500</td>\n",
              "      <td>1.10278320312500</td>\n",
              "    </tr>\n",
              "    <tr>\n",
              "      <th>3</th>\n",
              "      <td>-3.125000</td>\n",
              "      <td>-2.187500</td>\n",
              "      <td>-2.656250</td>\n",
              "      <td>-2.63027954101563</td>\n",
              "    </tr>\n",
              "    <tr>\n",
              "      <th>4</th>\n",
              "      <td>-2.656250</td>\n",
              "      <td>-2.187500</td>\n",
              "      <td>-2.421875</td>\n",
              "      <td>-0.474498748779297</td>\n",
              "    </tr>\n",
              "    <tr>\n",
              "      <th>...</th>\n",
              "      <td>...</td>\n",
              "      <td>...</td>\n",
              "      <td>...</td>\n",
              "      <td>...</td>\n",
              "    </tr>\n",
              "    <tr>\n",
              "      <th>95</th>\n",
              "      <td>-2.359304</td>\n",
              "      <td>-2.359304</td>\n",
              "      <td>-2.359304</td>\n",
              "      <td>1.77635683940025e-15</td>\n",
              "    </tr>\n",
              "    <tr>\n",
              "      <th>96</th>\n",
              "      <td>-2.359304</td>\n",
              "      <td>-2.359304</td>\n",
              "      <td>-2.359304</td>\n",
              "      <td>1.77635683940025e-15</td>\n",
              "    </tr>\n",
              "    <tr>\n",
              "      <th>97</th>\n",
              "      <td>-2.359304</td>\n",
              "      <td>-2.359304</td>\n",
              "      <td>-2.359304</td>\n",
              "      <td>1.77635683940025e-15</td>\n",
              "    </tr>\n",
              "    <tr>\n",
              "      <th>98</th>\n",
              "      <td>-2.359304</td>\n",
              "      <td>-2.359304</td>\n",
              "      <td>-2.359304</td>\n",
              "      <td>1.77635683940025e-15</td>\n",
              "    </tr>\n",
              "    <tr>\n",
              "      <th>99</th>\n",
              "      <td>-2.359304</td>\n",
              "      <td>-2.359304</td>\n",
              "      <td>-2.359304</td>\n",
              "      <td>1.77635683940025e-15</td>\n",
              "    </tr>\n",
              "  </tbody>\n",
              "</table>\n",
              "<p>100 rows × 4 columns</p>\n",
              "</div>"
            ],
            "text/plain": [
              "           a         b         c                    fc\n",
              "0  -5.000000  2.500000 -1.250000      3.17187500000000\n",
              "1  -5.000000 -1.250000 -3.125000     -8.98632812500000\n",
              "2  -3.125000 -1.250000 -2.187500      1.10278320312500\n",
              "3  -3.125000 -2.187500 -2.656250     -2.63027954101563\n",
              "4  -2.656250 -2.187500 -2.421875    -0.474498748779297\n",
              "..       ...       ...       ...                   ...\n",
              "95 -2.359304 -2.359304 -2.359304  1.77635683940025e-15\n",
              "96 -2.359304 -2.359304 -2.359304  1.77635683940025e-15\n",
              "97 -2.359304 -2.359304 -2.359304  1.77635683940025e-15\n",
              "98 -2.359304 -2.359304 -2.359304  1.77635683940025e-15\n",
              "99 -2.359304 -2.359304 -2.359304  1.77635683940025e-15\n",
              "\n",
              "[100 rows x 4 columns]"
            ]
          },
          "metadata": {},
          "execution_count": 22
        },
        {
          "output_type": "display_data",
          "data": {
            "image/png": "[encoded data removed]",
            "text/plain": [
              "<Figure size 432x288 with 1 Axes>"
            ]
          },
          "metadata": {
            "needs_background": "light"
          }
        }
      ]
    }
  ]
}